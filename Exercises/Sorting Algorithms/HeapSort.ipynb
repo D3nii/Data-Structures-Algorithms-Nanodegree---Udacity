{
 "cells": [
  {
   "cell_type": "markdown",
   "metadata": {
    "graffitiCellId": "id_8qbo8lo"
   },
   "source": [
    "# Heapsort\n",
    "\n",
    "A heapsort is an in-place sorting algorithm that treats an array like a binary tree and moves the largest values to the end of the heap until the full array is sorted.  \n",
    "\n",
    "The main steps in a heapsort are:\n",
    "1. Convert the array into a maxheap (a complete binary tree with decreasing values) \n",
    "2. Swap the top element with the last element in the array (putting it in it's correct final position)\n",
    "3. Repeat with `arr[:len(arr)-1]` (all but the sorted elements)\n",
    "\n",
    "## Visualization of a heapsort\n",
    "![animation of a heap sort](https://upload.wikimedia.org/wikipedia/commons/4/4d/Heapsort-example.gif)\n",
    "\n",
    "[\"Heapsort example\"](https://commons.wikimedia.org/wiki/File:Heapsort-example.gif) by Swfung8. Used under [CC BY-SA 3.0](https://creativecommons.org/licenses/by-sa/3.0/deed.en).\n",
    "\n",
    "## Problem statement\n",
    "\n",
    "In the cell below, see if you can code a `heapsort` function that takes an array (or Python list) and performs a heapsort on it. You will have to complete the heapify"
   ]
  },
  {
   "cell_type": "code",
   "execution_count": 14,
   "metadata": {},
   "outputs": [],
   "source": [
    "def heapsort(arr):\n",
    "    \n",
    "    for i in range(len(arr), -1, -1):\n",
    "        heapify(arr, len(arr), i)      # make the tree\n",
    "        \n",
    "    for i in range(len(arr)-1, 0, -1):\n",
    "        arr[i], arr[0] = arr[0], arr[i]\n",
    "        heapify(arr, i, 0) \n",
    "\n",
    "def heapify(arr, n, i):\n",
    "    \"\"\"\n",
    "    :param: arr - array to heapify\n",
    "    n -- number of elements in the array\n",
    "    i -- index of the current node\n",
    "    TODO: Converts an array (in place) into a maxheap, a complete binary tree with the largest values at the top\n",
    "    \"\"\"\n",
    "    upper = i\n",
    "    left = 2 * i + 1\n",
    "    right = 2 * i + 2\n",
    "    \n",
    "    # compare with left\n",
    "    if left < n and arr[i] < arr[left]:\n",
    "        upper = left\n",
    "    \n",
    "    # compare with right\n",
    "    if right < n and arr[upper] < arr[right]:\n",
    "        upper = right\n",
    "        \n",
    "    # check if upper is not i\n",
    "    if upper != i:\n",
    "        arr[i], arr[upper] = arr[upper], arr[i]\n",
    "        heapify(arr, n, upper)"
   ]
  },
  {
   "cell_type": "markdown",
   "metadata": {
    "graffitiCellId": "id_1h50lwk"
   },
   "source": [
    "<span class=\"graffiti-highlight graffiti-id_1h50lwk-id_kuae7he\"><i></i><button>Show Solution</button></span>"
   ]
  },
  {
   "cell_type": "code",
   "execution_count": 15,
   "metadata": {},
   "outputs": [],
   "source": [
    "def test_function(test_case):\n",
    "    heapsort(test_case[0])\n",
    "    if test_case[0] == test_case[1]:\n",
    "        print(\"Pass\")\n",
    "    else:\n",
    "        print(\"False\")"
   ]
  },
  {
   "cell_type": "code",
   "execution_count": 16,
   "metadata": {
    "graffitiCellId": "id_5z02ebi"
   },
   "outputs": [
    {
     "name": "stdout",
     "output_type": "stream",
     "text": [
      "Pass\n"
     ]
    }
   ],
   "source": [
    "arr = [3, 7, 4, 6, 1, 0, 9, 8, 9, 4, 3, 5]\n",
    "solution = [0, 1, 3, 3, 4, 4, 5, 6, 7, 8, 9, 9]\n",
    "\n",
    "test_case = [arr, solution]\n",
    "\n",
    "test_function(test_case)\n"
   ]
  },
  {
   "cell_type": "code",
   "execution_count": 17,
   "metadata": {},
   "outputs": [
    {
     "name": "stdout",
     "output_type": "stream",
     "text": [
      "Pass\n"
     ]
    }
   ],
   "source": [
    "arr = [5, 5, 5, 3, 3, 3, 4, 4, 4, 4]\n",
    "solution = [3, 3, 3, 4, 4, 4, 4, 5, 5, 5]\n",
    "test_case = [arr, solution]\n",
    "test_function(test_case)\n"
   ]
  },
  {
   "cell_type": "code",
   "execution_count": 18,
   "metadata": {},
   "outputs": [
    {
     "name": "stdout",
     "output_type": "stream",
     "text": [
      "Pass\n"
     ]
    }
   ],
   "source": [
    "arr = [99]\n",
    "solution = [99]\n",
    "test_case = [arr, solution]\n",
    "test_function(test_case)\n"
   ]
  },
  {
   "cell_type": "code",
   "execution_count": 19,
   "metadata": {},
   "outputs": [
    {
     "name": "stdout",
     "output_type": "stream",
     "text": [
      "Pass\n"
     ]
    }
   ],
   "source": [
    "arr = [0, 1, 2, 5, 12, 21, 0]\n",
    "solution = [0, 0, 1, 2, 5, 12, 21]\n",
    "test_case = [arr, solution]\n",
    "test_function(test_case)\n"
   ]
  },
  {
   "cell_type": "code",
   "execution_count": null,
   "metadata": {
    "graffitiCellId": "id_u4mozid"
   },
   "outputs": [],
   "source": []
  }
 ],
 "metadata": {
  "graffiti": {
   "firstAuthorId": "10694620118",
   "id": "id_57afwqr",
   "language": "EN"
  },
  "kernelspec": {
   "display_name": "Python 3",
   "language": "python",
   "name": "python3"
  },
  "language_info": {
   "codemirror_mode": {
    "name": "ipython",
    "version": 3
   },
   "file_extension": ".py",
   "mimetype": "text/x-python",
   "name": "python",
   "nbconvert_exporter": "python",
   "pygments_lexer": "ipython3",
   "version": "3.6.3"
  }
 },
 "nbformat": 4,
 "nbformat_minor": 2
}
