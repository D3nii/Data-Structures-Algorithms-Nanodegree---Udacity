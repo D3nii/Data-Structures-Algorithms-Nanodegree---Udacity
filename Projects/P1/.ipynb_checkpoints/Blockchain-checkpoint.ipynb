{
 "cells": [
  {
   "cell_type": "code",
   "execution_count": 2,
   "metadata": {},
   "outputs": [],
   "source": [
    "import hashlib\n",
    "\n",
    "def calc_hash(self):\n",
    "    sha = hashlib.sha256()\n",
    "\n",
    "    hash_str = \"We are going to encode this string of data!\".encode('utf-8')\n",
    "\n",
    "    sha.update(hash_str)\n",
    "\n",
    "    return sha.hexdigest()"
   ]
  },
  {
   "cell_type": "code",
   "execution_count": 3,
   "metadata": {},
   "outputs": [],
   "source": [
    "class Block:\n",
    "\n",
    "    def __init__(self, timestamp, data, previous_hash):\n",
    "        self.timestamp = timestamp\n",
    "        self.data = data\n",
    "        self.previous_hash = previous_hash\n",
    "        self.hash = self.calc_hash(data)\n",
    "        self.next = None\n",
    "        \n",
    "    def calc_hash(self, data):\n",
    "        sha = hashlib.sha256()\n",
    "\n",
    "        hash_str = data.encode('utf-8')\n",
    "\n",
    "        sha.update(hash_str)\n",
    "\n",
    "        return sha.hexdigest()"
   ]
  },
  {
   "cell_type": "code",
   "execution_count": 6,
   "metadata": {},
   "outputs": [],
   "source": [
    "import datetime\n",
    "\n",
    "class BlockChain:\n",
    "    \n",
    "    def __init__ (self):\n",
    "        self.head = None\n",
    "        self.size = 0\n",
    "        \n",
    "        \n",
    "    def append (self, val):\n",
    "        if val is None: return\n",
    "        \n",
    "        self.size += 1\n",
    "        \n",
    "        if self.head is None:\n",
    "            self.head = Block(datetime.datetime.now(), val, None)\n",
    "            return\n",
    "            \n",
    "        node = self.head\n",
    "        \n",
    "        while node.next:\n",
    "            node = node.next\n",
    "        \n",
    "        node.next = Block(datetime.datetime.now(), val, node.hash)"
   ]
  },
  {
   "cell_type": "code",
   "execution_count": 7,
   "metadata": {},
   "outputs": [
    {
     "name": "stdout",
     "output_type": "stream",
     "text": [
      "data for a\n",
      "True\n",
      "data for c\n"
     ]
    }
   ],
   "source": [
    "# Test Case\n",
    "chain = BlockChain()\n",
    "chain.append('data for a')\n",
    "chain.append('data for b')\n",
    "chain.append('data for c')\n",
    "chain.append(None)\n",
    "\n",
    "print(chain.head.data)\n",
    "# data for a\n",
    "\n",
    "b = chain.head.next\n",
    "c = chain.head.next.next\n",
    "print(b.hash == c.previous_hash)\n",
    "# True\n",
    "\n",
    "print(c.data)\n",
    "# data for c"
   ]
  },
  {
   "cell_type": "code",
   "execution_count": null,
   "metadata": {},
   "outputs": [],
   "source": []
  }
 ],
 "metadata": {
  "kernelspec": {
   "display_name": "Python 3",
   "language": "python",
   "name": "python3"
  },
  "language_info": {
   "codemirror_mode": {
    "name": "ipython",
    "version": 3
   },
   "file_extension": ".py",
   "mimetype": "text/x-python",
   "name": "python",
   "nbconvert_exporter": "python",
   "pygments_lexer": "ipython3",
   "version": "3.7.7"
  }
 },
 "nbformat": 4,
 "nbformat_minor": 4
}
