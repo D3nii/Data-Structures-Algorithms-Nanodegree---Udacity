{
 "cells": [
  {
   "cell_type": "code",
   "execution_count": 5,
   "metadata": {},
   "outputs": [],
   "source": [
    "def find_files(suffix, path):\n",
    "    \"\"\"\n",
    "    Find all files beneath path with file name suffix.\n",
    "\n",
    "    Note that a path may contain further subdirectories\n",
    "    and those subdirectories may also contain further subdirectories.\n",
    "\n",
    "    There are no limit to the depth of the subdirectories can be.\n",
    "\n",
    "    Args:\n",
    "      suffix(str): suffix if the file name to be found\n",
    "      path(str): path of the file system\n",
    "\n",
    "    Returns:\n",
    "       a list of paths\n",
    "    \"\"\"\n",
    "    if path[-2:] == suffix:\n",
    "        print(path)\n",
    "        \n",
    "    else:\n",
    "        if os.path.isdir(path):\n",
    "            for file in os.listdir(path):\n",
    "                find_files(suffix, os.path.join(path, file))"
   ]
  },
  {
   "cell_type": "code",
   "execution_count": 9,
   "metadata": {},
   "outputs": [
    {
     "name": "stdout",
     "output_type": "stream",
     "text": [
      "['.DS_Store', 'File Recursion.ipynb', 'LRU Cache.ipynb', 'testdir', '.ipynb_checkpoints']\n",
      "False\n",
      "True\n",
      "\n",
      "./testdir/subdir3/subsubdir1/b.c\n",
      "./testdir/t1.c\n",
      "./testdir/subdir5/a.c\n",
      "./testdir/subdir1/a.c\n",
      "\n",
      "./testdir/subdir3/subsubdir1/b.h\n",
      "./testdir/subdir5/a.h\n",
      "./testdir/t1.h\n",
      "./testdir/subdir1/a.h\n",
      "\n"
     ]
    }
   ],
   "source": [
    "## Locally save and call this file ex.py ##\n",
    "\n",
    "# Code to demonstrate the use of some of the OS modules in python\n",
    "\n",
    "import os\n",
    "\n",
    "# Let us print the files in the directory in which you are running this script\n",
    "print (os.listdir(\".\"))\n",
    "\n",
    "# Let us check if this file is indeed a file!\n",
    "print (os.path.isfile(\"./ex.py\"))\n",
    "\n",
    "# Does the file end with .py?\n",
    "print (\"./ex.py\".endswith(\".py\"))\n",
    "\n",
    "#Test cases\n",
    "print()\n",
    "find_files(\".c\", \"./testdir\")\n",
    "print()\n",
    "find_files(\".h\", \"./testdir\")\n",
    "print()\n",
    "find_files(\".z\", \"./testdir\")\n",
    "\n",
    "# Test Case Answer:\n",
    "# ./testdir/subdir3/subsubdir1/b.c\n",
    "# ./testdir/t1.c\n",
    "# ./testdir/subdir5/a.c\n",
    "# ./testdir/subdir1/a.c\n",
    "# --------------------\n",
    "# ./testdir/subdir3/subsubdir1/b.h\n",
    "# ./testdir/subdir5/a.h\n",
    "# ./testdir/t1.h\n",
    "# ./testdir/subdir1/a.h\n",
    "# --------------------"
   ]
  },
  {
   "cell_type": "code",
   "execution_count": null,
   "metadata": {},
   "outputs": [],
   "source": []
  }
 ],
 "metadata": {
  "kernelspec": {
   "display_name": "Python 3",
   "language": "python",
   "name": "python3"
  },
  "language_info": {
   "codemirror_mode": {
    "name": "ipython",
    "version": 3
   },
   "file_extension": ".py",
   "mimetype": "text/x-python",
   "name": "python",
   "nbconvert_exporter": "python",
   "pygments_lexer": "ipython3",
   "version": "3.7.7"
  }
 },
 "nbformat": 4,
 "nbformat_minor": 4
}
